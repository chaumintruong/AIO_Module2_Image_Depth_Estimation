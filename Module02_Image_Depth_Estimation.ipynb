{
  "nbformat": 4,
  "nbformat_minor": 0,
  "metadata": {
    "colab": {
      "provenance": [],
      "authorship_tag": "ABX9TyPmY5FEZIEh1sN5Xu85tzCD",
      "include_colab_link": true
    },
    "kernelspec": {
      "name": "python3",
      "display_name": "Python 3"
    },
    "language_info": {
      "name": "python"
    }
  },
  "cells": [
    {
      "cell_type": "markdown",
      "metadata": {
        "id": "view-in-github",
        "colab_type": "text"
      },
      "source": [
        "<a href=\"https://colab.research.google.com/github/chaumintruong/AIO_Module2_Image_Depth_Estimation/blob/feature%2Fproject_IDE/Module02_Image_Depth_Estimation.ipynb\" target=\"_parent\"><img src=\"https://colab.research.google.com/assets/colab-badge.svg\" alt=\"Open In Colab\"/></a>"
      ]
    },
    {
      "cell_type": "code",
      "source": [
        "!unzip /content/tsukuba.zip"
      ],
      "metadata": {
        "colab": {
          "base_uri": "https://localhost:8080/"
        },
        "id": "NZARZSyknmdv",
        "outputId": "5cdef6df-4f5c-43d5-c142-364ddc870883"
      },
      "execution_count": 2,
      "outputs": [
        {
          "output_type": "stream",
          "name": "stdout",
          "text": [
            "Archive:  /content/tsukuba.zip\n",
            "   creating: tsukuba/tsukuba/\n",
            "  inflating: tsukuba/tsukuba/groundtruth.png  \n",
            "  inflating: tsukuba/tsukuba/left.png  \n",
            "  inflating: tsukuba/tsukuba/right.png  \n"
          ]
        }
      ]
    },
    {
      "cell_type": "code",
      "source": [
        "!unzip /content/aloe.zip"
      ],
      "metadata": {
        "colab": {
          "base_uri": "https://localhost:8080/"
        },
        "id": "xJYhI4Z2nou2",
        "outputId": "3b8491f2-8d3f-46d6-efc5-d5c299bb9013"
      },
      "execution_count": 3,
      "outputs": [
        {
          "output_type": "stream",
          "name": "stdout",
          "text": [
            "Archive:  /content/aloe.zip\n",
            "   creating: aloe/aloe/\n",
            "   creating: aloe/aloe/Aloe/\n",
            "  inflating: aloe/aloe/Aloe/Aloe_left_1.png  \n",
            "  inflating: aloe/aloe/Aloe/Aloe_right_1.png  \n",
            "  inflating: aloe/aloe/Aloe/Aloe_right_2.png  \n",
            "  inflating: aloe/aloe/Aloe/Aloe_right_3.png  \n",
            "  inflating: aloe/aloe/Aloe/Disparity_map_corr.png  \n"
          ]
        }
      ]
    },
    {
      "cell_type": "markdown",
      "source": [
        "#Problem 01:"
      ],
      "metadata": {
        "id": "k0OSDMcigQMO"
      }
    },
    {
      "cell_type": "code",
      "source": [
        "import cv2\n",
        "import numpy as np"
      ],
      "metadata": {
        "id": "BS49id50gTe9"
      },
      "execution_count": 4,
      "outputs": []
    },
    {
      "cell_type": "code",
      "execution_count": 5,
      "metadata": {
        "id": "J-MII2fXebO4"
      },
      "outputs": [],
      "source": [
        "def distance_l1(p1, p2):\n",
        "    return abs(p1 - p2)\n",
        "\n",
        "def distance_l2(p1, p2):\n",
        "    return (p1 - p2) ** 2"
      ]
    },
    {
      "cell_type": "code",
      "source": [
        "def pixel_wise_matching_l1(left_img, right_img, disparity_range=16, save_result=True):\n",
        "    # Đọc ảnh trái và phải, sau đó chuyển đổi sang grayscale\n",
        "    left = cv2.imread(left_img, 0)\n",
        "    right = cv2.imread(right_img, 0)\n",
        "\n",
        "    left = left.astype(np.float32)\n",
        "    right = right.astype(np.float32)\n",
        "\n",
        "    height, width = left.shape[:2]\n",
        "\n",
        "    # Tạo disparity map trống\n",
        "    depth = np.zeros((height, width), np.uint8)\n",
        "    scale = 16\n",
        "    max_value = 255\n",
        "\n",
        "    for y in range(height):\n",
        "        for x in range(width):\n",
        "            disparity = 0\n",
        "            cost_min = max_value\n",
        "\n",
        "            for j in range(disparity_range):\n",
        "                cost = max_value if (x - j) < 0 else distance_l1(int(left[y, x]), int(right[y, x - j]))\n",
        "\n",
        "                if cost < cost_min:\n",
        "                    cost_min = cost\n",
        "                    disparity = j\n",
        "\n",
        "            depth[y, x] = disparity * scale\n",
        "\n",
        "    if save_result:\n",
        "        print('Saving result...')\n",
        "        cv2.imwrite('pixel_wise_l1.png', depth)\n",
        "        cv2.imwrite('pixel_wise_l1_color.png', cv2.applyColorMap(depth, cv2.COLORMAP_JET))\n",
        "\n",
        "    print('Done.')\n",
        "    return depth\n",
        "\n",
        "def pixel_wise_matching_l2(left_img, right_img, disparity_range=16, save_result=True):\n",
        "    # Đọc ảnh trái và phải, sau đó chuyển đổi sang grayscale\n",
        "    left = cv2.imread(left_img, 0)\n",
        "    right = cv2.imread(right_img, 0)\n",
        "\n",
        "    left = left.astype(np.float32)\n",
        "    right = right.astype(np.float32)\n",
        "\n",
        "    height, width = left.shape[:2]\n",
        "\n",
        "    # Tạo disparity map trống\n",
        "    depth = np.zeros((height, width), np.uint8)\n",
        "    scale = 16\n",
        "    max_value = 255\n",
        "\n",
        "    for y in range(height):\n",
        "        for x in range(width):\n",
        "            disparity = 0\n",
        "            cost_min = max_value\n",
        "\n",
        "            for j in range(disparity_range):\n",
        "                cost = max_value if (x - j) < 0 else distance_l2(int(left[y, x]), int(right[y, x - j]))\n",
        "\n",
        "                if cost < cost_min:\n",
        "                    cost_min = cost\n",
        "                    disparity = j\n",
        "\n",
        "            depth[y, x] = disparity * scale\n",
        "\n",
        "    if save_result:\n",
        "        print('Saving result...')\n",
        "        cv2.imwrite('pixel_wise_l2.png', depth)\n",
        "        cv2.imwrite('pixel_wise_l2_color.png', cv2.applyColorMap(depth, cv2.COLORMAP_JET))\n",
        "\n",
        "    print('Done.')\n",
        "    return depth\n"
      ],
      "metadata": {
        "id": "feU4NI0qhh3S"
      },
      "execution_count": 6,
      "outputs": []
    },
    {
      "cell_type": "code",
      "source": [
        "left_img_path = 'tsukuba/left.png'\n",
        "right_img_path = 'tsukuba/right.png'\n",
        "disparity_range = 16\n",
        "\n",
        "pixel_vise_result_l1 = pixel_wise_matching_l1(\n",
        "    left_img_path,\n",
        "    right_img_path,\n",
        "    disparity_range,\n",
        "    save_result=True)\n",
        "\n",
        "pixel_vise_result_l2 = pixel_wise_matching_l2(\n",
        "    left_img_path,\n",
        "    right_img_path,\n",
        "    disparity_range,\n",
        "    save_result=True)"
      ],
      "metadata": {
        "colab": {
          "base_uri": "https://localhost:8080/"
        },
        "id": "5mPhNAHglxae",
        "outputId": "64618044-b935-4ad9-fc0d-067d3a877bde"
      },
      "execution_count": 8,
      "outputs": [
        {
          "output_type": "stream",
          "name": "stdout",
          "text": [
            "Saving result...\n",
            "Done.\n",
            "Saving result...\n",
            "Done.\n"
          ]
        }
      ]
    },
    {
      "cell_type": "markdown",
      "source": [
        "#Problem 2:\n"
      ],
      "metadata": {
        "id": "xN2u2nWiq6-_"
      }
    },
    {
      "cell_type": "code",
      "source": [
        "def window_based_matching_l1(left_img, right_img, disparity_range=64, kernel_size=3, save_result=True):\n",
        "    # Đọc ảnh trái và phải, sau đó chuyển đổi sang grayscale\n",
        "    left = cv2.imread(left_img, 0)\n",
        "    right = cv2.imread(right_img, 0)\n",
        "\n",
        "    left = left.astype(np.float32)\n",
        "    right = right.astype(np.float32)\n",
        "\n",
        "    height, width = left.shape[:2]\n",
        "\n",
        "    # Tạo disparity map trống\n",
        "    depth = np.zeros((height, width), np.uint8)\n",
        "\n",
        "    kernel_half = int((kernel_size - 1) / 2)\n",
        "    scale = 3\n",
        "    max_value = 255 * 9\n",
        "\n",
        "    for y in range(kernel_half, height - kernel_half):\n",
        "        for x in range(kernel_half, width - kernel_half):\n",
        "            disparity = 0\n",
        "            cost_min = 65534\n",
        "\n",
        "            for j in range(disparity_range):\n",
        "                total = 0\n",
        "                value = 0\n",
        "\n",
        "                for v in range(-kernel_half, kernel_half + 1):\n",
        "                    for u in range(-kernel_half, kernel_half + 1):\n",
        "                        value = max_value\n",
        "                        if (x + u - j) >= 0:\n",
        "                            value = distance_l1(\n",
        "                                int(left[y + v, x + u]), int(right[y + v, (x + u) - j])\n",
        "                            )\n",
        "                        total += value\n",
        "\n",
        "                if total < cost_min:\n",
        "                    cost_min = total\n",
        "                    disparity = j\n",
        "\n",
        "            depth[y, x] = disparity * scale\n",
        "\n",
        "    if save_result:\n",
        "        print('Saving result...')\n",
        "        cv2.imwrite('window_based_l1.png', depth)\n",
        "        cv2.imwrite('window_based_l1_color.png', cv2.applyColorMap(depth, cv2.COLORMAP_JET))\n",
        "\n",
        "    print('Done.')\n",
        "    return depth\n",
        "\n",
        "def window_based_matching_l2(left_img, right_img, disparity_range=64, kernel_size=3, save_result=True):\n",
        "    # Đọc ảnh trái và phải, sau đó chuyển đổi sang grayscale\n",
        "    left = cv2.imread(left_img, 0)\n",
        "    right = cv2.imread(right_img, 0)\n",
        "\n",
        "    left = left.astype(np.float32)\n",
        "    right = right.astype(np.float32)\n",
        "\n",
        "    height, width = left.shape[:2]\n",
        "\n",
        "    # Tạo disparity map trống\n",
        "    depth = np.zeros((height, width), np.uint8)\n",
        "\n",
        "    kernel_half = int((kernel_size - 1) / 2)\n",
        "    scale = 3\n",
        "    max_value = 255 * 9\n",
        "\n",
        "    for y in range(kernel_half, height - kernel_half):\n",
        "        for x in range(kernel_half, width - kernel_half):\n",
        "            disparity = 0\n",
        "            cost_min = 65534\n",
        "\n",
        "            for j in range(disparity_range):\n",
        "                total = 0\n",
        "                value = 0\n",
        "\n",
        "                for v in range(-kernel_half, kernel_half + 1):\n",
        "                    for u in range(-kernel_half, kernel_half + 1):\n",
        "                        value = max_value\n",
        "                        if (x + u - j) >= 0:\n",
        "                            value = distance_l2(\n",
        "                                int(left[y + v, x + u]), int(right[y + v, (x + u) - j])\n",
        "                            )\n",
        "                        total += value\n",
        "\n",
        "                if total < cost_min:\n",
        "                    cost_min = total\n",
        "                    disparity = j\n",
        "\n",
        "            depth[y, x] = disparity * scale\n",
        "\n",
        "    if save_result:\n",
        "        print('Saving result...')\n",
        "        cv2.imwrite('window_based_l2.png', depth)\n",
        "        cv2.imwrite('window_based_l2_color.png', cv2.applyColorMap(depth, cv2.COLORMAP_JET))\n",
        "\n",
        "    print('Done.')\n",
        "    return depth\n"
      ],
      "metadata": {
        "id": "gCPbyQ-oq9HV"
      },
      "execution_count": 9,
      "outputs": []
    },
    {
      "cell_type": "code",
      "source": [
        "left_img_path = 'Aloe/Aloe_left_1.png'\n",
        "right_img_path = 'Aloe/Aloe_right_1.png'\n",
        "disparity_range = 64\n",
        "kernel_size = 3\n",
        "\n",
        "window_based_result_l1 = window_based_matching_l1(\n",
        "    left_img_path,\n",
        "    right_img_path,\n",
        "    disparity_range,\n",
        "    kernel_size=kernel_size,\n",
        "    save_result=True)\n",
        "\n",
        "window_based_result_l2 = window_based_matching_l2(\n",
        "    left_img_path,\n",
        "    right_img_path,\n",
        "    disparity_range,\n",
        "    kernel_size=kernel_size,\n",
        "    save_result=True)"
      ],
      "metadata": {
        "id": "LfHHHX2Ore1Y",
        "outputId": "b3156018-f20a-43c0-c201-f34592964add",
        "colab": {
          "base_uri": "https://localhost:8080/"
        }
      },
      "execution_count": 10,
      "outputs": [
        {
          "output_type": "stream",
          "name": "stdout",
          "text": [
            "Saving result...\n",
            "Done.\n",
            "Saving result...\n",
            "Done.\n"
          ]
        }
      ]
    },
    {
      "cell_type": "markdown",
      "source": [
        "#Problem 3:"
      ],
      "metadata": {
        "id": "6KqrtGqIsVZL"
      }
    },
    {
      "cell_type": "code",
      "source": [
        "# Đường dẫn đến ảnh trái và phải\n",
        "left_img = 'Aloe/Aloe_left_1.png'\n",
        "right_img = 'Aloe/Aloe_right_2.png'\n",
        "disparity_range = 64\n",
        "kernel_size = 5\n",
        "\n",
        "# Tính disparity map với cost L1\n",
        "disparity_map_l1 = window_based_matching_l1(\n",
        "    left_img,\n",
        "    right_img,\n",
        "    disparity_range,\n",
        "    kernel_size=kernel_size,\n",
        "    save_result=True)\n",
        "\n",
        "# Tính disparity map với cost L2\n",
        "disparity_map_l2 = window_based_matching_l2(\n",
        "    left_img,\n",
        "    right_img,\n",
        "    disparity_range,\n",
        "    kernel_size=kernel_size,\n",
        "    save_result=True)\n"
      ],
      "metadata": {
        "id": "gh4xVBE_sXai",
        "outputId": "f3436aa8-2baa-4869-d488-0b7dcb19c790",
        "colab": {
          "base_uri": "https://localhost:8080/"
        }
      },
      "execution_count": 12,
      "outputs": [
        {
          "output_type": "stream",
          "name": "stdout",
          "text": [
            "Saving result...\n",
            "Done.\n",
            "Saving result...\n",
            "Done.\n"
          ]
        }
      ]
    },
    {
      "cell_type": "markdown",
      "source": [
        "#Problem 4:"
      ],
      "metadata": {
        "id": "1wOIHYfpyz58"
      }
    },
    {
      "cell_type": "code",
      "source": [
        "def cosine_similarity(x, y):\n",
        "    numerator = np.dot(x, y)\n",
        "    denominator = np.linalg.norm(x) * np.linalg.norm(y)\n",
        "    return numerator / denominator"
      ],
      "metadata": {
        "id": "_w-k9gFbzVZE"
      },
      "execution_count": 13,
      "outputs": []
    },
    {
      "cell_type": "code",
      "source": [
        "def window_based_matching_cosine_similarity(left_img, right_img, disparity_range=64, kernel_size=5, save_result=True):\n",
        "    # Đọc ảnh trái và phải, sau đó chuyển đổi sang grayscale\n",
        "    left = cv2.imread(left_img, 0)\n",
        "    right = cv2.imread(right_img, 0)\n",
        "\n",
        "    left = left.astype(np.float32)\n",
        "    right = right.astype(np.float32)\n",
        "\n",
        "    height, width = left.shape[:2]\n",
        "\n",
        "    # Tạo disparity map trống\n",
        "    depth = np.zeros((height, width), np.uint8)\n",
        "    kernel_half = int((kernel_size - 1) / 2)\n",
        "    scale = 3\n",
        "\n",
        "    for y in range(kernel_half, height - kernel_half):\n",
        "        for x in range(kernel_half, width - kernel_half):\n",
        "            disparity = 0\n",
        "            cost_optimal = -1\n",
        "\n",
        "            for j in range(disparity_range):\n",
        "                d = x - j\n",
        "                cost = -1\n",
        "\n",
        "                if (d - kernel_half) >= 0:\n",
        "                    wp = left[(y - kernel_half):(y + kernel_half) + 1, (x - kernel_half):(x + kernel_half) + 1]\n",
        "                    wqd = right[(y - kernel_half):(y + kernel_half) + 1, (d - kernel_half):(d + kernel_half) + 1]\n",
        "\n",
        "                    # Chuyển đổi các cửa sổ thành vector (flatten)\n",
        "                    wp_flattened = wp.flatten()\n",
        "                    wqd_flattened = wqd.flatten()\n",
        "\n",
        "                    # Tính toán Cosine Similarity\n",
        "                    cost = cosine_similarity(wp_flattened, wqd_flattened)\n",
        "\n",
        "                # Lưu giá trị disparity tại điểm có Cosine Similarity cao nhất\n",
        "                if cost > cost_optimal:\n",
        "                    cost_optimal = cost\n",
        "                    disparity = j\n",
        "\n",
        "            # Gán disparity cho ảnh depth\n",
        "            depth[y, x] = disparity * scale\n",
        "\n",
        "    if save_result:\n",
        "        print('Saving result...')\n",
        "        cv2.imwrite('window_based_cosine_similarity.png', depth)\n",
        "        cv2.imwrite('window_based_cosine_similarity_color.png', cv2.applyColorMap(depth, cv2.COLORMAP_JET))\n",
        "\n",
        "    print('Done.')\n",
        "    return depth\n"
      ],
      "metadata": {
        "id": "eagYAF61y1oy"
      },
      "execution_count": 14,
      "outputs": []
    },
    {
      "cell_type": "code",
      "source": [
        "# Đường dẫn đến ảnh trái và phải\n",
        "left_img = 'Aloe/Aloe_left_1.png'\n",
        "right_img = 'Aloe/Aloe_right_2.png'\n",
        "disparity_range = 64\n",
        "kernel_size = 5\n",
        "\n",
        "# Tính disparity map sử dụng Cosine Similarity\n",
        "disparity_map_cosine = window_based_matching_cosine_similarity(\n",
        "    left_img,\n",
        "    right_img,\n",
        "    disparity_range,\n",
        "    kernel_size=kernel_size,\n",
        "    save_result=True)\n"
      ],
      "metadata": {
        "id": "sAFTcgZZzZTU",
        "outputId": "7aeb9cfe-005b-4e6b-be1d-1d169e81f857",
        "colab": {
          "base_uri": "https://localhost:8080/"
        }
      },
      "execution_count": 16,
      "outputs": [
        {
          "output_type": "stream",
          "name": "stdout",
          "text": [
            "Saving result...\n",
            "Done.\n"
          ]
        }
      ]
    }
  ]
}